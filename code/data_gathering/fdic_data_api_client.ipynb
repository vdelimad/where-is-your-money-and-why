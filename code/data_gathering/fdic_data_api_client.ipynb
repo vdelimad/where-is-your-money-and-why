{
 "cells": [
  {
   "attachments": {},
   "cell_type": "markdown",
   "metadata": {},
   "source": [
    "# FDIC Data API Client\n",
    "\n",
    "By 503 Team 4"
   ]
  },
  {
   "attachments": {},
   "cell_type": "markdown",
   "metadata": {},
   "source": [
    "Source:\n",
    "https://banks.data.fdic.gov/docs/#/"
   ]
  },
  {
   "attachments": {},
   "cell_type": "markdown",
   "metadata": {},
   "source": [
    "## Code"
   ]
  },
  {
   "attachments": {},
   "cell_type": "markdown",
   "metadata": {},
   "source": [
    "Import libraries"
   ]
  },
  {
   "cell_type": "code",
   "execution_count": null,
   "metadata": {},
   "outputs": [],
   "source": [
    "import requests\n",
    "import pandas as pd\n",
    "import json\n",
    "import urllib.parse\n"
   ]
  },
  {
   "attachments": {},
   "cell_type": "markdown",
   "metadata": {},
   "source": [
    "Define function"
   ]
  },
  {
   "cell_type": "code",
   "execution_count": null,
   "metadata": {},
   "outputs": [],
   "source": [
    "# set endpoint\n",
    "endpoint = 'https://banks.data.fdic.gov/api/'\n",
    "\n",
    "# function\n",
    "def get_all_financial_reporting_data(endpoint, reporting_period, fields, result_limit=5000):\n",
    "    \"\"\"\n",
    "    NC (Noninsured non-deposit commercial banks) are removed below to match the query of the FDIC site https://banks.data.fdic.gov/bankfind-suite/financialreporting\n",
    "    \"\"\"\n",
    "    \n",
    "    \n",
    "    # initialize data list\n",
    "    financials = []\n",
    "    \n",
    "    # query\n",
    "    fields_encoded = urllib.parse.quote(fields, safe='')\n",
    "    url = f'{endpoint}financials?filters=RISDATE:{reporting_period} AND !(BKCLASS:\"NC\")&fields={fields_encoded}&limit={result_limit}&sort_by=REPDTE&sort_order=ASC'\n",
    "    \n",
    "    # get response\n",
    "    response = requests.get(url)\n",
    "\n",
    "    if response.status_code == 200:\n",
    "        # response to json\n",
    "        data = response.json()\n",
    "\n",
    "        # store response data\n",
    "        financial_data = [item['data'] for item in data['data']]\n",
    "        financials.extend(financial_data)\n",
    "\n",
    "    else:\n",
    "        print(f'Request failed with status code {response.status_code}')\n",
    "        return None\n",
    "\n",
    "    return pd.DataFrame(financials)\n"
   ]
  },
  {
   "attachments": {},
   "cell_type": "markdown",
   "metadata": {},
   "source": [
    "Query the data"
   ]
  },
  {
   "cell_type": "code",
   "execution_count": null,
   "metadata": {},
   "outputs": [],
   "source": [
    "# params\n",
    "reporting_period = '2022-12-31'\n",
    "fields = 'REPDTE,CERT,NAME,CITY,STNAME,ASSET,DEPDOM,BKCLASS,ADDRESS,ZIP,EQ,LIAB,ESTYMD,ENDEFYMD,' # no spaces between!\n",
    "result_limit = 10000\n",
    "\n",
    "# call\n",
    "all_financial_reporting_data = get_all_financial_reporting_data(endpoint, reporting_period, fields, result_limit)\n",
    "\n",
    "# display\n",
    "if all_financial_reporting_data is not None:\n",
    "    all_financial_reporting_data = all_financial_reporting_data.sort_values('CERT')\n",
    "    display(all_financial_reporting_data.head())\n",
    "    #all_financial_reporting_data.to_csv(f'../../data/quarterly_financials/{reporting_period}_quarterly_financials.csv', index=False) # save\n"
   ]
  },
  {
   "attachments": {},
   "cell_type": "markdown",
   "metadata": {},
   "source": [
    "Check data"
   ]
  },
  {
   "cell_type": "code",
   "execution_count": null,
   "metadata": {},
   "outputs": [],
   "source": [
    "display(all_financial_reporting_data.shape)\n",
    "#column_to_check = 'ACTIVE'\n",
    "#display(pd.DataFrame({'col1': all_financial_reporting_data[column_to_check].value_counts().index, 'count': all_financial_reporting_data[column_to_check].value_counts().values}))\n",
    "\n"
   ]
  },
  {
   "attachments": {},
   "cell_type": "markdown",
   "metadata": {},
   "source": [
    "Get the last quarter for the past 30 years"
   ]
  },
  {
   "cell_type": "code",
   "execution_count": null,
   "metadata": {},
   "outputs": [],
   "source": [
    "today = pd.Timestamp.now().date()\n",
    "\n",
    "\n",
    "# define the start and end dates of the range (inclusive)\n",
    "start_date = '1992-03-31'\n",
    "end_date = '2022-12-31'\n",
    "\n",
    "# generate a list of dates within the range, with a frequency of 1 quarter\n",
    "dates = pd.date_range(start=start_date, end=end_date, freq='Q')\n",
    "\n",
    "# loop\n",
    "for date in dates:\n",
    "\n",
    "    # get end of quarter\n",
    "    end_of_quarter = date.strftime('%Y-%m-%d') # format\n",
    "    \n",
    "    fields = 'REPDTE,CERT,NAME,CITY,STNAME,ASSET,DEPDOM,BKCLASS,ADDRESS,ZIP,EQ,LIAB,ESTYMD,ENDEFYMD,EQR,' # no spaces between!\n",
    "    result_limit = 10000\n",
    "\n",
    "    # call\n",
    "    all_financial_reporting_data = get_all_financial_reporting_data(endpoint, end_of_quarter, fields, result_limit)\n",
    "\n",
    "    # display\n",
    "    if all_financial_reporting_data is not None:\n",
    "        all_financial_reporting_data = all_financial_reporting_data.sort_values('CERT')\n",
    "        all_financial_reporting_data.to_csv(f'../../data/quarterly_financials/{end_of_quarter}_quarterly_financials.csv', index=False)\n",
    "        print(f'{end_of_quarter} done')\n"
   ]
  }
 ],
 "metadata": {
  "kernelspec": {
   "display_name": "spring2023env",
   "language": "python",
   "name": "python3"
  },
  "language_info": {
   "codemirror_mode": {
    "name": "ipython",
    "version": 3
   },
   "file_extension": ".py",
   "mimetype": "text/x-python",
   "name": "python",
   "nbconvert_exporter": "python",
   "pygments_lexer": "ipython3",
   "version": "3.10.8"
  },
  "orig_nbformat": 4
 },
 "nbformat": 4,
 "nbformat_minor": 2
}
